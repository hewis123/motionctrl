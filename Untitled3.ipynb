{
  "nbformat": 4,
  "nbformat_minor": 0,
  "metadata": {
    "colab": {
      "provenance": []
    },
    "kernelspec": {
      "name": "python3",
      "display_name": "Python 3"
    },
    "language_info": {
      "name": "python"
    }
  },
  "cells": [
    {
      "cell_type": "code",
      "execution_count": null,
      "metadata": {
        "id": "nsZM2IgZ-BvT"
      },
      "outputs": [],
      "source": [
        "# 技术交流及问题咨询\n",
        "#    公众号：AIProall\n",
        "#    微信：ai285016567\n",
        "\n",
        "\n",
        "%cd /content\n",
        "!git clone -b dev https://github.com/camenduru/MotionCtrl-hf\n",
        "%cd /content/MotionCtrl-hf\n",
        "!pip install -q Pytorch-Lightning decord kornia timm open_clip_torch av omegaconf einops\n",
        "!pip install -q taming-transformers-rom1504 fairscale annotated-types gradio==3.50.2\n",
        "!pip install -q https://download.pytorch.org/whl/cu121/xformers-0.0.22.post7-cp310-cp310-manylinux2014_x86_64.whl\n",
        "\n",
        "!apt -y install -qq aria2\n",
        "!aria2c --console-log-level=error -c -x 16 -s 16 -k 1M https://huggingface.co/TencentARC/MotionCtrl/resolve/main/motionctrl.pth?download=true -d /content/MotionCtrl-hf -o motionctrl.pth\n",
        "\n",
        "!python app.py"
      ]
    }
  ]
}